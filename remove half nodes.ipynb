{
 "cells": [
  {
   "cell_type": "markdown",
   "metadata": {},
   "source": [
    "# Remove Half Nodes"
   ]
  },
  {
   "cell_type": "markdown",
   "metadata": {},
   "source": [
    "### Asked in:   Amazon"
   ]
  },
  {
   "cell_type": "raw",
   "metadata": {},
   "source": [
    "Problem Description\n",
    "\n",
    "Given a binary tree A with N nodes.\n",
    "\n",
    "You have to remove all the half nodes and return the final binary tree.\n",
    "\n",
    "NOTE:\n",
    "\n",
    "1. Half nodes are nodes which have only one child.\n",
    "2. Leaves should not be touched as they have both children as NULL.\n",
    "\n",
    "Input:\n",
    "           1\n",
    "         /   \\\n",
    "        2     3\n",
    "       / \n",
    "      4\n",
    "output:\n",
    "           1\n",
    "         /    \\\n",
    "        4      3"
   ]
  },
  {
   "cell_type": "markdown",
   "metadata": {},
   "source": [
    "for more information visit here \" https://www.interviewbit.com/problems/remove-half-nodes/\""
   ]
  },
  {
   "cell_type": "markdown",
   "metadata": {},
   "source": [
    "## Answer in Python"
   ]
  },
  {
   "cell_type": "code",
   "execution_count": null,
   "metadata": {},
   "outputs": [],
   "source": [
    "# class TreeNode:\n",
    "#     def __init__(self, x):\n",
    "#         self.val = x\n",
    "#         self.left = None\n",
    "#         self.right = None\n",
    "\n",
    "class Solution:\n",
    "    # @param A : root node of tree\n",
    "    # @return the root node in the tree\n",
    "    def solve(self, A):\n",
    "        if A is None:\n",
    "            return None\n",
    "        else:\n",
    "            if (A.right and not A.left):\n",
    "                return self.solve(A.right)\n",
    "            if (A.left and not A.right):\n",
    "                return self.solve(A.left)\n",
    "            A.left=self.solve(A.left)\n",
    "            A.right= self.solve(A.right)\n",
    "            return A"
   ]
  }
 ],
 "metadata": {
  "kernelspec": {
   "display_name": "Python 3",
   "language": "python",
   "name": "python3"
  },
  "language_info": {
   "codemirror_mode": {
    "name": "ipython",
    "version": 3
   },
   "file_extension": ".py",
   "mimetype": "text/x-python",
   "name": "python",
   "nbconvert_exporter": "python",
   "pygments_lexer": "ipython3",
   "version": "3.7.6"
  }
 },
 "nbformat": 4,
 "nbformat_minor": 4
}
