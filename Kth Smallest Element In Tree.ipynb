{
 "cells": [
  {
   "cell_type": "markdown",
   "metadata": {},
   "source": [
    "# Kth Smallest Element In Tree"
   ]
  },
  {
   "cell_type": "markdown",
   "metadata": {},
   "source": [
    "This question is asked in Amazon. for more inforamtion about this question visit here \" https://www.interviewbit.com/problems/kth-smallest-element-in-tree/\" \n",
    "\n"
   ]
  },
  {
   "cell_type": "raw",
   "metadata": {},
   "source": [
    "Input : \n",
    "  2\n",
    " / \\\n",
    "1   3\n",
    "\n",
    "and k = 2\n",
    "\n",
    "Return : 2\n",
    "\n",
    "As 2 is the second smallest element in the tree.\n",
    "\n",
    "You may assume 1 <= k <= Total number of nodes in BST"
   ]
  },
  {
   "cell_type": "code",
   "execution_count": null,
   "metadata": {},
   "outputs": [],
   "source": [
    "class Solution:\n",
    "    # @param A : root node of tree\n",
    "    # @param B : integer\n",
    "    # @return an integer\n",
    "    def kthsmallest(self, A, B):\n",
    "        # for storing left child after each iteration\n",
    "        ar=[]\n",
    "        def ino(root):\n",
    "            if len(ar)==B:\n",
    "                return\n",
    "            if root:\n",
    "                # for inorder traversal recursively\n",
    "                ino(root.left)\n",
    "                ar.append(root.val)\n",
    "                ino(root.right)\n",
    "        ino(A)\n",
    "        return ar[B-1]"
   ]
  }
 ],
 "metadata": {
  "kernelspec": {
   "display_name": "Python 3",
   "language": "python",
   "name": "python3"
  },
  "language_info": {
   "codemirror_mode": {
    "name": "ipython",
    "version": 3
   },
   "file_extension": ".py",
   "mimetype": "text/x-python",
   "name": "python",
   "nbconvert_exporter": "python",
   "pygments_lexer": "ipython3",
   "version": "3.7.6"
  }
 },
 "nbformat": 4,
 "nbformat_minor": 4
}
