{
 "cells": [
  {
   "cell_type": "code",
   "execution_count": 6,
   "metadata": {},
   "outputs": [
    {
     "name": "stdout",
     "output_type": "stream",
     "text": [
      "this if colorful number :  1\n"
     ]
    }
   ],
   "source": [
    "\"\"\"\n",
    "For Given Number N find if its COLORFUL number or not\n",
    "Return 0/1\n",
    "COLORFUL number:\n",
    "A number can be broken into different contiguous sub-subsequence parts.\n",
    "Suppose, a number 3245 can be broken into parts like 3 2 4 5 32 24 45 324 245.\n",
    "And this number is a COLORFUL number, since product of every digit of a contiguous subsequence is different\n",
    "Example:\n",
    "N = 23\n",
    "2 3 23\n",
    "2 -> 2\n",
    "3 -> 3\n",
    "23 -> 6\n",
    "this number is a COLORFUL number since product of every digit of a sub-sequence are different.\n",
    "Output : 1\n",
    "\"\"\"\n",
    "\n",
    "\n",
    "\n",
    "n=23 \n",
    "temp = []         #it will store all possible subsequence\n",
    "hashlist = {}     # use to storing subsequence and product side by side like {('2':2),('23':6),('3':3)}  \n",
    "s = str(n)        # converting number to string so that it can be iterable\n",
    "\n",
    "#  here we will store all the subsequence to temp[] \n",
    "\n",
    "for i in range(len(s)):\n",
    "    for j in range(i, len(s)):\n",
    "        temp.append(s[i:j + 1])\n",
    "\n",
    "# iserting  product to hashlist{}       \n",
    "for l in range(len(temp)):\n",
    "    mx = 1\n",
    "    p = temp[l]              # it used for keeping track of key values\n",
    "    for k in range(len(p)):\n",
    "        mx *= int(p[k])\n",
    "    hashlist[p] = mx         # inserting product to the particular ker i.e p \n",
    "\n",
    "temp0 = []\n",
    "# inserting unique values to temp0[] \n",
    "for k, v in hashlist.items():\n",
    "    if v not in temp0:\n",
    "        temp0.append(v)\n",
    "#checking all the producut of subsequence is unique or not by chceking length         \n",
    "if len(temp0) == len(temp):\n",
    "     print(\"this if colorful number : \",1) # if you are using function u can write return 1\n",
    "else:\n",
    "    print(\"this is not colorful number : \",0)# if you are using function you can write return 0\n",
    "   "
   ]
  },
  {
   "cell_type": "code",
   "execution_count": null,
   "metadata": {},
   "outputs": [],
   "source": []
  }
 ],
 "metadata": {
  "kernelspec": {
   "display_name": "Python 3",
   "language": "python",
   "name": "python3"
  },
  "language_info": {
   "codemirror_mode": {
    "name": "ipython",
    "version": 3
   },
   "file_extension": ".py",
   "mimetype": "text/x-python",
   "name": "python",
   "nbconvert_exporter": "python",
   "pygments_lexer": "ipython3",
   "version": "3.7.6"
  }
 },
 "nbformat": 4,
 "nbformat_minor": 4
}
