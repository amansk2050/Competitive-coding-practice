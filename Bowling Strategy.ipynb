{
 "cells": [
  {
   "cell_type": "markdown",
   "metadata": {},
   "source": [
    "# September cook-off 2020 | problem code-BOWLERS"
   ]
  },
  {
   "cell_type": "markdown",
   "metadata": {},
   "source": [
    "solution is present in Python. for more information of question visit here \" https://www.codechef.com/problems/BOWLERS \" "
   ]
  },
  {
   "cell_type": "code",
   "execution_count": 1,
   "metadata": {},
   "outputs": [
    {
     "name": "stdout",
     "output_type": "stream",
     "text": [
      "2\n",
      "4 3 2\n",
      "1 2 3 1\n",
      "5 4 1\n",
      "-1\n"
     ]
    }
   ],
   "source": [
    "try:    \n",
    "    test=int(input()) # for number of test cases\n",
    "    j=1\n",
    "    while j<=test:\n",
    "        over,player,maxm = input().split(' ') # storing input in space separated manner\n",
    "        over=int(over) # for number of over\n",
    "        player=int(player) # for number of  players\n",
    "        maxm=int(maxm) # for max limit of over per player\n",
    "        seq=[] # for storing sequence\n",
    "        limit=[0 for i in range(player)] # for keeping track of over for each player initially assigned as 0 because done their over\n",
    "        i=1\n",
    "        '''\n",
    "        checking edge cases \n",
    "        \n",
    "        '''\n",
    "        if over>1 and player==1:\n",
    "            print(-1)\n",
    "        elif over>player*maxm:\n",
    "            print(-1)\n",
    "            \n",
    "        else:\n",
    "            while i<=over:\n",
    "                if i<=player:\n",
    "                    if limit[i-1]<maxm:\n",
    "                        limit[i-1]=limit[i-1]+1\n",
    "                        seq.append(i)\n",
    "                        if len(seq)==over:\n",
    "                            print(*seq)\n",
    "                            break\n",
    "\n",
    "                    else:\n",
    "                        print(-1)\n",
    "                        break\n",
    "                    i=i+1\n",
    "                else:\n",
    "                    i=1\n",
    "\n",
    "        j=j+1\n",
    "except:\n",
    "    pass"
   ]
  }
 ],
 "metadata": {
  "kernelspec": {
   "display_name": "Python 3",
   "language": "python",
   "name": "python3"
  },
  "language_info": {
   "codemirror_mode": {
    "name": "ipython",
    "version": 3
   },
   "file_extension": ".py",
   "mimetype": "text/x-python",
   "name": "python",
   "nbconvert_exporter": "python",
   "pygments_lexer": "ipython3",
   "version": "3.7.6"
  }
 },
 "nbformat": 4,
 "nbformat_minor": 4
}
