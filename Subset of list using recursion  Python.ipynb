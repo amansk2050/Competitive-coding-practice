{
 "cells": [
  {
   "cell_type": "code",
   "execution_count": 33,
   "metadata": {},
   "outputs": [
    {
     "name": "stdout",
     "output_type": "stream",
     "text": [
      "Elements appending to res [] :->  [[]]\n",
      "\n",
      "\n",
      "elements getting appended to subset []  :  [1]\n",
      "Elements appending to res [] :->  [[], [1]]\n",
      "\n",
      "\n",
      "elements getting appended to subset []  :  [1, 2]\n",
      "Elements appending to res [] :->  [[], [1], [1, 2]]\n",
      "\n",
      "\n",
      "elements getting appended to subset []  :  [1, 2, 3]\n",
      "Elements appending to res [] :->  [[], [1], [1, 2], [1, 2, 3]]\n",
      "\n",
      "\n",
      "elements getting appended to subset []  :  [1, 3]\n",
      "Elements appending to res [] :->  [[], [1], [1, 2], [1, 2, 3], [1, 3]]\n",
      "\n",
      "\n",
      "elements getting appended to subset []  :  [2]\n",
      "Elements appending to res [] :->  [[], [1], [1, 2], [1, 2, 3], [1, 3], [2]]\n",
      "\n",
      "\n",
      "elements getting appended to subset []  :  [2, 3]\n",
      "Elements appending to res [] :->  [[], [1], [1, 2], [1, 2, 3], [1, 3], [2], [2, 3]]\n",
      "\n",
      "\n",
      "elements getting appended to subset []  :  [3]\n",
      "Elements appending to res [] :->  [[], [1], [1, 2], [1, 2, 3], [1, 3], [2], [2, 3], [3]]\n",
      "\n",
      "\n",
      "Final result :  [[], [1], [1, 2], [1, 2, 3], [1, 3], [2], [2, 3], [3]]\n"
     ]
    }
   ],
   "source": [
    "A=[1,2,3]\n",
    "res=[]\n",
    "A.sort()\n",
    "def SubsetGenaration(A, subset, index):\n",
    "    res.append(subset[:])\n",
    "    print(\"Elements appending to res [] :-> \",res)\n",
    "    print(\"\\n\")\n",
    "    for i in range (index, len(A)):\n",
    "        subset.append(A[i])\n",
    "        print(\"elements getting appended to subset []  : \", subset)\n",
    "        SubsetGenaration(A, subset, i+1)\n",
    "        subset.pop(-1)\n",
    "        #print(\"Poped elements from subset : \", subset)\n",
    "    return\n",
    "SubsetGenaration(A, [], 0)\n",
    "print(\"Final result : \" ,res)"
   ]
  }
 ],
 "metadata": {
  "kernelspec": {
   "display_name": "Python 3",
   "language": "python",
   "name": "python3"
  },
  "language_info": {
   "codemirror_mode": {
    "name": "ipython",
    "version": 3
   },
   "file_extension": ".py",
   "mimetype": "text/x-python",
   "name": "python",
   "nbconvert_exporter": "python",
   "pygments_lexer": "ipython3",
   "version": "3.7.6"
  }
 },
 "nbformat": 4,
 "nbformat_minor": 4
}
