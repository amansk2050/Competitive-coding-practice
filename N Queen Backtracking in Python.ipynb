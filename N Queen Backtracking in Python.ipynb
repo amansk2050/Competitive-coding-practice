{
 "cells": [
  {
   "cell_type": "markdown",
   "metadata": {},
   "source": [
    "# Finding only one solution"
   ]
  },
  {
   "cell_type": "code",
   "execution_count": 8,
   "metadata": {},
   "outputs": [
    {
     "name": "stdout",
     "output_type": "stream",
     "text": [
      "Enter the number of queens\n",
      "4\n",
      "[0, 1, 0, 0]\n",
      "[0, 0, 0, 1]\n",
      "[1, 0, 0, 0]\n",
      "[0, 0, 1, 0]\n"
     ]
    }
   ],
   "source": [
    "#Number of queens\n",
    "print (\"Enter the number of queens\")\n",
    "N = int(input())\n",
    "\n",
    "#chessboard\n",
    "#NxN matrix with all elements 0\n",
    "board = [[0]*N for _ in range(N)]\n",
    "\n",
    "def is_attack(i, j):\n",
    "    #checking if there is a queen in row or column\n",
    "    for k in range(0,N):\n",
    "        if board[i][k]==1 or board[k][j]==1:\n",
    "            return True\n",
    "    #checking diagonals\n",
    "    for k in range(0,N):\n",
    "        for l in range(0,N):\n",
    "            if (k+l==i+j) or (k-l==i-j):\n",
    "                if board[k][l]==1:\n",
    "                    return True\n",
    "    return False\n",
    "\n",
    "def N_queen(n):\n",
    "    #if n is 0, solution found\n",
    "    if n==0:\n",
    "        return True\n",
    "    for i in range(0,N):\n",
    "        for j in range(0,N):\n",
    "            '''checking if we can place a queen here or not\n",
    "            queen will not be placed if the place is being attacked\n",
    "            or already occupied'''\n",
    "            if (not(is_attack(i,j))) and (board[i][j]!=1):\n",
    "                board[i][j] = 1\n",
    "                #recursion\n",
    "                #wether we can put the next queen with this arrangment or not\n",
    "                if N_queen(n-1)==True:\n",
    "                    return True\n",
    "                board[i][j] = 0\n",
    "\n",
    "    return False\n",
    "\n",
    "N_queen(N)\n",
    "for i in board:\n",
    "    print (i)"
   ]
  },
  {
   "cell_type": "markdown",
   "metadata": {},
   "source": [
    "# finding all possible positions"
   ]
  },
  {
   "cell_type": "code",
   "execution_count": 10,
   "metadata": {},
   "outputs": [
    {
     "name": "stdout",
     "output_type": "stream",
     "text": [
      "[['.Q..', '...Q', 'Q...', '..Q.'], ['..Q.', 'Q...', '...Q', '.Q..']]\n"
     ]
    }
   ],
   "source": [
    "#A=4 means number of queens\n",
    "A=4\n",
    "board = [['.']*A for _ in range(A)]\n",
    "# checking all the possible places to place queen \n",
    "def check(x,y,board):\n",
    "    for i in range(A):\n",
    "        for j in range(A):\n",
    "            if board[i][j]=='Q':\n",
    "                if i==x or j==y or (x-y)==(i-j) or (x+y)==(i+j):\n",
    "                    return False\n",
    "    return True\n",
    "#placing the queen \n",
    "def solve(board,qn,ans):\n",
    "    if qn==A:\n",
    "        to_append = [''.join(sa) for sa in board]\n",
    "        ans.append(to_append)\n",
    "        return\n",
    "#backtracking\n",
    "    for c in range(A):\n",
    "        if check(qn,c,board):\n",
    "            board[qn][c] = 'Q'\n",
    "            solve(board,qn+1,ans)\n",
    "            board[qn][c] = '.'\n",
    "\n",
    "ans = list()\n",
    "solve(board,0,ans)\n",
    "print(ans)\n"
   ]
  }
 ],
 "metadata": {
  "kernelspec": {
   "display_name": "Python 3",
   "language": "python",
   "name": "python3"
  },
  "language_info": {
   "codemirror_mode": {
    "name": "ipython",
    "version": 3
   },
   "file_extension": ".py",
   "mimetype": "text/x-python",
   "name": "python",
   "nbconvert_exporter": "python",
   "pygments_lexer": "ipython3",
   "version": "3.7.6"
  }
 },
 "nbformat": 4,
 "nbformat_minor": 4
}
