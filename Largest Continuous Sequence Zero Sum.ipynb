{
 "cells": [
  {
   "cell_type": "code",
   "execution_count": 9,
   "metadata": {},
   "outputs": [
    {
     "name": "stdout",
     "output_type": "stream",
     "text": [
      "[2, -2, 4, -4]\n"
     ]
    }
   ],
   "source": [
    "'''Largest Continuous Sequence Zero Sum\n",
    "Asked in:  \n",
    "Microsoft\n",
    "Find the largest continuous sequence in a array which sums to zero.\n",
    "\n",
    "Example:\n",
    "\n",
    "\n",
    "Input:  {1 ,2 ,-2 ,4 ,-4}\n",
    "Output: {2 ,-2 ,4 ,-4}\n",
    "\n",
    " NOTE : If there are multiple correct answers, return the sequence which occurs first in the array. \n",
    "Seen this question in a real interview before'''\n",
    "\n",
    "\n",
    "\n",
    "# our test case\n",
    "A=[1,2,-2,4,-4]\n",
    "\n",
    "# intializing dictionary with 0 key and 0 value\n",
    "lszero = {0: 0}\n",
    "\n",
    "# initialising sum with 0\n",
    "Sum = 0\n",
    "\n",
    "# s-> start and e-> end initially assigned -1 but used for print array from starting index to end index\n",
    "s = e = -1\n",
    "for i in range(len(A)):\n",
    "    Sum += A[i]\n",
    "    if Sum not in lszero:\n",
    "        lszero[Sum] = i + 1\n",
    "    elif i - lszero[Sum] > e - s or s == -1:\n",
    "        s = lszero[Sum]\n",
    "        e = i\n",
    "print(A[s:e+1])\n"
   ]
  },
  {
   "cell_type": "code",
   "execution_count": null,
   "metadata": {},
   "outputs": [],
   "source": []
  }
 ],
 "metadata": {
  "kernelspec": {
   "display_name": "Python 3",
   "language": "python",
   "name": "python3"
  },
  "language_info": {
   "codemirror_mode": {
    "name": "ipython",
    "version": 3
   },
   "file_extension": ".py",
   "mimetype": "text/x-python",
   "name": "python",
   "nbconvert_exporter": "python",
   "pygments_lexer": "ipython3",
   "version": "3.7.6"
  }
 },
 "nbformat": 4,
 "nbformat_minor": 4
}
