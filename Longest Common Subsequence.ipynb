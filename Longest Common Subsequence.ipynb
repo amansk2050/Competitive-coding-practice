{
 "cells": [
  {
   "cell_type": "markdown",
   "metadata": {},
   "source": [
    "# Longest Common Subsequence"
   ]
  },
  {
   "cell_type": "code",
   "execution_count": 1,
   "metadata": {},
   "outputs": [
    {
     "name": "stdout",
     "output_type": "stream",
     "text": [
      "showing dp before operation : \n",
      "\n",
      "[0, 0, 0, 0, 0] \n",
      "\n",
      "[0, 0, 0, 0, 0] \n",
      "\n",
      "[0, 0, 0, 0, 0] \n",
      "\n",
      "[0, 0, 0, 0, 0] \n",
      "\n",
      "showing dp after operation : \n",
      "\n",
      "[0, 0, 0, 0, 0] \n",
      "\n",
      "[0, 0, 0, 1, 1] \n",
      "\n",
      "[0, 1, 1, 1, 1] \n",
      "\n",
      "[0, 1, 2, 2, 2] \n",
      "\n",
      "Longest Common Subsequence :  2\n"
     ]
    }
   ],
   "source": [
    "A=\"abb\"\n",
    "B=\"bbad\"\n",
    "n,m=len(A),len(B)\n",
    "dp=[[0]*(m+1) for z in range(n+1)]\n",
    "print(\"showing dp before operation : \\n\")\n",
    "for i in dp:\n",
    "    print(i,\"\\n\")\n",
    "for i in range(n):\n",
    "    for j in range(m):\n",
    "        if A[i]==B[j]:\n",
    "            dp[i+1][j+1]=dp[i][j]+1\n",
    "        else:\n",
    "            dp[i+1][j+1]=max(dp[i][j+1],dp[i+1][j])\n",
    "print(\"showing dp after operation : \\n\")\n",
    "for i in dp:\n",
    "    print(i,\"\\n\")\n",
    "print(\"Longest Common Subsequence : \",dp[-1][-1])\n"
   ]
  }
 ],
 "metadata": {
  "kernelspec": {
   "display_name": "Python 3",
   "language": "python",
   "name": "python3"
  },
  "language_info": {
   "codemirror_mode": {
    "name": "ipython",
    "version": 3
   },
   "file_extension": ".py",
   "mimetype": "text/x-python",
   "name": "python",
   "nbconvert_exporter": "python",
   "pygments_lexer": "ipython3",
   "version": "3.7.6"
  }
 },
 "nbformat": 4,
 "nbformat_minor": 4
}
