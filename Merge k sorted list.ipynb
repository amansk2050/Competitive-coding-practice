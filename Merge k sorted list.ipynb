{
 "cells": [
  {
   "cell_type": "code",
   "execution_count": null,
   "metadata": {},
   "outputs": [],
   "source": [
    "# Definition for singly-linked list.\n",
    "# class ListNode:\n",
    "#     def __init__(self, x):\n",
    "#         self.val = x\n",
    "#         self.next = None\n",
    "\n",
    "class Solution:\n",
    "    # @param A : list of linked list\n",
    "    # @return the head node in the linked list\n",
    "    \n",
    "    def mergeKLists(self, A):\n",
    "        \n",
    "        if len(A) ==1:\n",
    "            return A[0]\n",
    "        elif len(A) == 2:\n",
    "            return self.merge_two_lists(A[0], A[1])\n",
    "        else:def merge_two_lists(self, l1, l2):\n",
    "\n",
    "        res = ListNode(0)\n",
    "        head = res\n",
    "        while l1 and l2:\n",
    "            if l1.val > l2.val:\n",
    "                res.next = ListNode(l2.val)\n",
    "                res = res.next\n",
    "                l2 = l2.next\n",
    "            else:\n",
    "                res.next = ListNode(l1.val)\n",
    "                res = res.next\n",
    "                l1 = l1.next\n",
    "        while l1:\n",
    "            res.next = ListNode(l1.val)\n",
    "            res = res.next\n",
    "            l1 = l1.next\n",
    "        while l2:\n",
    "            res.next = ListNode(l2.val)\n",
    "            res = res.next\n",
    "            l2 = l2.next\n",
    "        return head.next\n",
    "\n",
    "    \n",
    "    \n",
    "            left, right = self.mergeKLists(A[:len(A)//2]), self.mergeKLists(A[len(A)//2:])\n",
    "            return self.merge_two_lists(left, right)\n"
   ]
  }
 ],
 "metadata": {
  "kernelspec": {
   "display_name": "Python 3",
   "language": "python",
   "name": "python3"
  },
  "language_info": {
   "codemirror_mode": {
    "name": "ipython",
    "version": 3
   },
   "file_extension": ".py",
   "mimetype": "text/x-python",
   "name": "python",
   "nbconvert_exporter": "python",
   "pygments_lexer": "ipython3",
   "version": "3.7.6"
  }
 },
 "nbformat": 4,
 "nbformat_minor": 4
}
