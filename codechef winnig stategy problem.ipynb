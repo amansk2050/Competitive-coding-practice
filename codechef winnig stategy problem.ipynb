{
 "cells": [
  {
   "cell_type": "code",
   "execution_count": 2,
   "metadata": {},
   "outputs": [
    {
     "name": "stdout",
     "output_type": "stream",
     "text": [
      "2\n",
      "3\n",
      "1 1 1\n",
      "second\n",
      "4\n",
      "1 1 1 1\n",
      "draw\n"
     ]
    }
   ],
   "source": [
    "try:\n",
    "    n=int(input())\n",
    "    for i in range(n):\n",
    "        k=int(input())\n",
    "        inp = list(map(int,input().split()))\n",
    "        first=0\n",
    "        second=0\n",
    "        inp.sort(reverse=True)\n",
    "        for j in range(k):\n",
    "            if j == 0:\n",
    "                first+= inp[j]\n",
    "            elif j == 1 or j==2:\n",
    "                second +=inp[j]\n",
    "            elif j%2==0:\n",
    "                second+= inp[j]\n",
    "            else:\n",
    "                first+=inp[j]\n",
    "        if first>second:\n",
    "            print('first')\n",
    "        elif first<second:\n",
    "            print('second')\n",
    "        else:\n",
    "            print('draw')\n",
    "except:\n",
    "    pass"
   ]
  },
  {
   "cell_type": "code",
   "execution_count": null,
   "metadata": {},
   "outputs": [],
   "source": []
  }
 ],
 "metadata": {
  "kernelspec": {
   "display_name": "Python 3",
   "language": "python",
   "name": "python3"
  },
  "language_info": {
   "codemirror_mode": {
    "name": "ipython",
    "version": 3
   },
   "file_extension": ".py",
   "mimetype": "text/x-python",
   "name": "python",
   "nbconvert_exporter": "python",
   "pygments_lexer": "ipython3",
   "version": "3.7.6"
  }
 },
 "nbformat": 4,
 "nbformat_minor": 4
}
